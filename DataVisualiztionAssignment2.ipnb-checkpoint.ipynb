{
 "cells": [
  {
   "cell_type": "markdown",
   "metadata": {},
   "source": [
    "# Question 1\n",
    "Create a dataframe with 10 rows on random numbers and 4 columns,(columns labelled as a,b,c,d) and plot a bar chart"
   ]
  },
  {
   "cell_type": "code",
   "execution_count": 8,
   "metadata": {},
   "outputs": [],
   "source": [
    "import numpy as np\n",
    "import matplotlib as mpl\n",
    "import matplotlib.pyplot as plt\n",
    "%matplotlib inline\n",
    "import pandas as pd\n",
    "import seaborn as sns\n",
    "from numpy.random import randn, randint, uniform, sample"
   ]
  },
  {
   "cell_type": "code",
   "execution_count": 9,
   "metadata": {},
   "outputs": [
    {
     "data": {
      "text/html": [
       "<div>\n",
       "<style scoped>\n",
       "    .dataframe tbody tr th:only-of-type {\n",
       "        vertical-align: middle;\n",
       "    }\n",
       "\n",
       "    .dataframe tbody tr th {\n",
       "        vertical-align: top;\n",
       "    }\n",
       "\n",
       "    .dataframe thead th {\n",
       "        text-align: right;\n",
       "    }\n",
       "</style>\n",
       "<table border=\"1\" class=\"dataframe\">\n",
       "  <thead>\n",
       "    <tr style=\"text-align: right;\">\n",
       "      <th></th>\n",
       "      <th>a</th>\n",
       "      <th>b</th>\n",
       "      <th>c</th>\n",
       "      <th>d</th>\n",
       "    </tr>\n",
       "  </thead>\n",
       "  <tbody>\n",
       "    <tr>\n",
       "      <th>0</th>\n",
       "      <td>-0.892358</td>\n",
       "      <td>-2.423800</td>\n",
       "      <td>1.338448</td>\n",
       "      <td>0.998466</td>\n",
       "    </tr>\n",
       "    <tr>\n",
       "      <th>1</th>\n",
       "      <td>-1.251298</td>\n",
       "      <td>-0.004604</td>\n",
       "      <td>-0.353249</td>\n",
       "      <td>-0.181415</td>\n",
       "    </tr>\n",
       "    <tr>\n",
       "      <th>2</th>\n",
       "      <td>-0.809908</td>\n",
       "      <td>0.164949</td>\n",
       "      <td>-1.321676</td>\n",
       "      <td>0.264586</td>\n",
       "    </tr>\n",
       "    <tr>\n",
       "      <th>3</th>\n",
       "      <td>-0.281424</td>\n",
       "      <td>1.040604</td>\n",
       "      <td>-1.051433</td>\n",
       "      <td>-2.584356</td>\n",
       "    </tr>\n",
       "    <tr>\n",
       "      <th>4</th>\n",
       "      <td>-1.193565</td>\n",
       "      <td>-0.317359</td>\n",
       "      <td>-0.526519</td>\n",
       "      <td>-0.706163</td>\n",
       "    </tr>\n",
       "    <tr>\n",
       "      <th>5</th>\n",
       "      <td>0.714860</td>\n",
       "      <td>-0.420390</td>\n",
       "      <td>0.464058</td>\n",
       "      <td>-0.050684</td>\n",
       "    </tr>\n",
       "    <tr>\n",
       "      <th>6</th>\n",
       "      <td>-0.710400</td>\n",
       "      <td>-2.034407</td>\n",
       "      <td>-0.319115</td>\n",
       "      <td>-0.718437</td>\n",
       "    </tr>\n",
       "    <tr>\n",
       "      <th>7</th>\n",
       "      <td>-1.468877</td>\n",
       "      <td>-2.660285</td>\n",
       "      <td>-1.456973</td>\n",
       "      <td>-0.481221</td>\n",
       "    </tr>\n",
       "    <tr>\n",
       "      <th>8</th>\n",
       "      <td>0.343492</td>\n",
       "      <td>0.813120</td>\n",
       "      <td>0.344129</td>\n",
       "      <td>-0.678500</td>\n",
       "    </tr>\n",
       "    <tr>\n",
       "      <th>9</th>\n",
       "      <td>-1.647559</td>\n",
       "      <td>1.178280</td>\n",
       "      <td>-0.717424</td>\n",
       "      <td>0.973627</td>\n",
       "    </tr>\n",
       "  </tbody>\n",
       "</table>\n",
       "</div>"
      ],
      "text/plain": [
       "          a         b         c         d\n",
       "0 -0.892358 -2.423800  1.338448  0.998466\n",
       "1 -1.251298 -0.004604 -0.353249 -0.181415\n",
       "2 -0.809908  0.164949 -1.321676  0.264586\n",
       "3 -0.281424  1.040604 -1.051433 -2.584356\n",
       "4 -1.193565 -0.317359 -0.526519 -0.706163\n",
       "5  0.714860 -0.420390  0.464058 -0.050684\n",
       "6 -0.710400 -2.034407 -0.319115 -0.718437\n",
       "7 -1.468877 -2.660285 -1.456973 -0.481221\n",
       "8  0.343492  0.813120  0.344129 -0.678500\n",
       "9 -1.647559  1.178280 -0.717424  0.973627"
      ]
     },
     "execution_count": 9,
     "metadata": {},
     "output_type": "execute_result"
    }
   ],
   "source": [
    "df = pd.DataFrame(randn(10,4), columns = [\"a\", \"b\", \"c\", \"d\"])\n",
    "df"
   ]
  },
  {
   "cell_type": "code",
   "execution_count": 10,
   "metadata": {},
   "outputs": [
    {
     "data": {
      "image/png": "[encoded data removed]",
      "text/plain": [
       "<Figure size 720x720 with 1 Axes>"
      ]
     },
     "metadata": {
      "needs_background": "light"
     },
     "output_type": "display_data"
    }
   ],
   "source": [
    "#bar chart\n",
    "df.plot(kind = \"bar\", figsize = (10,10))\n",
    "plt.show()"
   ]
  },
  {
   "cell_type": "code",
   "execution_count": null,
   "metadata": {},
   "outputs": [],
   "source": []
  }
 ],
 "metadata": {
  "kernelspec": {
   "display_name": "Python 3",
   "language": "python",
   "name": "python3"
  },
  "language_info": {
   "codemirror_mode": {
    "name": "ipython",
    "version": 3
   },
   "file_extension": ".py",
   "mimetype": "text/x-python",
   "name": "python",
   "nbconvert_exporter": "python",
   "pygments_lexer": "ipython3",
   "version": "3.8.5"
  }
 },
 "nbformat": 4,
 "nbformat_minor": 4
}
